{
 "cells": [
  {
   "cell_type": "code",
   "execution_count": 1,
   "metadata": {},
   "outputs": [],
   "source": [
    "import requests\n",
    "from bs4 import BeautifulSoup\n",
    "import re\n",
    "import numpy as np\n",
    "import pandas as pd"
   ]
  },
  {
   "cell_type": "markdown",
   "metadata": {},
   "source": [
    "## Extract reviews on trustpilot\n",
    "This part aims at extract reviews of companys on the website trust pilot. Function `exctract_info` is designed to extract reviews and notes of this website."
   ]
  },
  {
   "cell_type": "code",
   "execution_count": null,
   "metadata": {},
   "outputs": [],
   "source": [
    "for i in range(len(notes)):\n",
    "        note = pattern_note.findall(notes_soup[i].find(\"img\")['alt'])\n",
    "        \n",
    "        if len(pattern_note.findall(notes_soup[i].find(\"img\")['alt'])) == 1:\n",
    "            notes[i] = int(note[0])"
   ]
  },
  {
   "cell_type": "code",
   "execution_count": 12,
   "metadata": {},
   "outputs": [],
   "source": [
    "def extract_info_TP(url) :\n",
    "\n",
    "    page = requests.get(url)\n",
    "    soup = BeautifulSoup(page.content, \"html.parser\")\n",
    "    reviews_soup = soup.find_all(\"p\", class_=\"typography_body-l__KUYFJ typography_appearance-default__AAY17 typography_color-black__5LYEn\")\n",
    "    reviews = [reviews_soup[i].get_text() for i in range(len(reviews_soup))]\n",
    "\n",
    "    titles_soup = soup.find_all(\"h2\", class_=\"typography_heading-s__f7029 typography_appearance-default__AAY17\")\n",
    "    titles = [titles_soup[i].get_text() for i in range(len(titles_soup))]\n",
    "  \n",
    "\n",
    "    notes = np.zeros(len(reviews))\n",
    "    notes_soup = soup.find_all(\"div\", class_=\"star-rating_starRating__4rrcf star-rating_medium__iN6Ty\")\n",
    "    pattern_note = re.compile(\"Rated (.) out of 5\")\n",
    "    for i in range(len(notes)):\n",
    "        note = pattern_note.findall(notes_soup[i].find(\"img\")['alt'])\n",
    "        if len(pattern_note.findall(notes_soup[i].find(\"img\")['alt'])) == 1:\n",
    "            notes[i] = int(note[0])\n",
    "    \n",
    "    return pd.DataFrame({'Notes': notes, 'title' : titles,'reviews':reviews})"
   ]
  },
  {
   "cell_type": "code",
   "execution_count": 11,
   "metadata": {},
   "outputs": [
    {
     "data": {
      "text/plain": [
       "1"
      ]
     },
     "execution_count": 11,
     "metadata": {},
     "output_type": "execute_result"
    }
   ],
   "source": [
    "pattern_note = re.compile(\"Rated (.) out of 5\")\n",
    "int(pattern_note.findall(\"Rated 1 out of 5\")[0])"
   ]
  },
  {
   "cell_type": "code",
   "execution_count": 23,
   "metadata": {},
   "outputs": [],
   "source": [
    "url_start = 'https://www.trustpilot.com/review/www.aircanada.com'\n",
    "df = extract_info_TP(url_start)\n",
    "nb_pages = 7\n",
    "for i in np.arange(1,nb_pages+1):\n",
    "    url = 'https://www.trustpilot.com/review/www.aircanada.com?page='+str(i)\n",
    "    df = pd.concat([df, extract_info_TP(url)])\n"
   ]
  },
  {
   "cell_type": "code",
   "execution_count": 24,
   "metadata": {},
   "outputs": [],
   "source": [
    "df = df[df.Notes <3 ]"
   ]
  },
  {
   "cell_type": "code",
   "execution_count": 25,
   "metadata": {},
   "outputs": [],
   "source": [
    "df.to_csv(\"air_canada_reviews.csv\", columns = [\"Notes\", \"title\", \"reviews\"])"
   ]
  },
  {
   "cell_type": "code",
   "execution_count": 16,
   "metadata": {},
   "outputs": [
    {
     "data": {
      "text/html": [
       "<div>\n",
       "<style scoped>\n",
       "    .dataframe tbody tr th:only-of-type {\n",
       "        vertical-align: middle;\n",
       "    }\n",
       "\n",
       "    .dataframe tbody tr th {\n",
       "        vertical-align: top;\n",
       "    }\n",
       "\n",
       "    .dataframe thead th {\n",
       "        text-align: right;\n",
       "    }\n",
       "</style>\n",
       "<table border=\"1\" class=\"dataframe\">\n",
       "  <thead>\n",
       "    <tr style=\"text-align: right;\">\n",
       "      <th></th>\n",
       "      <th>Notes</th>\n",
       "      <th>title</th>\n",
       "      <th>reviews</th>\n",
       "    </tr>\n",
       "  </thead>\n",
       "  <tbody>\n",
       "    <tr>\n",
       "      <th>0</th>\n",
       "      <td>0.0</td>\n",
       "      <td>Terrible experience with the maple…</td>\n",
       "      <td>Terrible experience with the maple lounge who ...</td>\n",
       "    </tr>\n",
       "    <tr>\n",
       "      <th>1</th>\n",
       "      <td>1.0</td>\n",
       "      <td>Delayed by 12hours on flight into…</td>\n",
       "      <td>Delayed by 12hours on flight into Toronto from...</td>\n",
       "    </tr>\n",
       "    <tr>\n",
       "      <th>2</th>\n",
       "      <td>1.0</td>\n",
       "      <td>Air Canada Hates Handicapped Passengers</td>\n",
       "      <td>Summary: A Third-World Airline run by a bunch ...</td>\n",
       "    </tr>\n",
       "    <tr>\n",
       "      <th>3</th>\n",
       "      <td>1.0</td>\n",
       "      <td>Worst airline imaginable</td>\n",
       "      <td>Connecting flight delayed 24 hours. Stuck in f...</td>\n",
       "    </tr>\n",
       "    <tr>\n",
       "      <th>4</th>\n",
       "      <td>1.0</td>\n",
       "      <td>Never Again</td>\n",
       "      <td>When you think of a destination wedding in tan...</td>\n",
       "    </tr>\n",
       "    <tr>\n",
       "      <th>...</th>\n",
       "      <td>...</td>\n",
       "      <td>...</td>\n",
       "      <td>...</td>\n",
       "    </tr>\n",
       "    <tr>\n",
       "      <th>15</th>\n",
       "      <td>1.0</td>\n",
       "      <td>Be warned.   A very dodgy company.</td>\n",
       "      <td>Be warned.  A very dodgy company.  They lost 4...</td>\n",
       "    </tr>\n",
       "    <tr>\n",
       "      <th>16</th>\n",
       "      <td>1.0</td>\n",
       "      <td>I had read bad reviews of this company</td>\n",
       "      <td>I had read bad reviews of this company, but it...</td>\n",
       "    </tr>\n",
       "    <tr>\n",
       "      <th>17</th>\n",
       "      <td>2.0</td>\n",
       "      <td>I hate Air Canada</td>\n",
       "      <td>I paid several thousand dollars for a flight f...</td>\n",
       "    </tr>\n",
       "    <tr>\n",
       "      <th>18</th>\n",
       "      <td>1.0</td>\n",
       "      <td>Reserved seat changed so party split up.</td>\n",
       "      <td>Paid to reserve seats together, but changed wi...</td>\n",
       "    </tr>\n",
       "    <tr>\n",
       "      <th>19</th>\n",
       "      <td>1.0</td>\n",
       "      <td>Hello again</td>\n",
       "      <td>Hello again, Air Canada here is your next 1* r...</td>\n",
       "    </tr>\n",
       "  </tbody>\n",
       "</table>\n",
       "<p>74 rows × 3 columns</p>\n",
       "</div>"
      ],
      "text/plain": [
       "    Notes                                     title  \\\n",
       "0     0.0       Terrible experience with the maple…   \n",
       "1     1.0        Delayed by 12hours on flight into…   \n",
       "2     1.0   Air Canada Hates Handicapped Passengers   \n",
       "3     1.0                  Worst airline imaginable   \n",
       "4     1.0                               Never Again   \n",
       "..    ...                                       ...   \n",
       "15    1.0        Be warned.   A very dodgy company.   \n",
       "16    1.0    I had read bad reviews of this company   \n",
       "17    2.0                         I hate Air Canada   \n",
       "18    1.0  Reserved seat changed so party split up.   \n",
       "19    1.0                               Hello again   \n",
       "\n",
       "                                              reviews  \n",
       "0   Terrible experience with the maple lounge who ...  \n",
       "1   Delayed by 12hours on flight into Toronto from...  \n",
       "2   Summary: A Third-World Airline run by a bunch ...  \n",
       "3   Connecting flight delayed 24 hours. Stuck in f...  \n",
       "4   When you think of a destination wedding in tan...  \n",
       "..                                                ...  \n",
       "15  Be warned.  A very dodgy company.  They lost 4...  \n",
       "16  I had read bad reviews of this company, but it...  \n",
       "17  I paid several thousand dollars for a flight f...  \n",
       "18  Paid to reserve seats together, but changed wi...  \n",
       "19  Hello again, Air Canada here is your next 1* r...  \n",
       "\n",
       "[74 rows x 3 columns]"
      ]
     },
     "execution_count": 16,
     "metadata": {},
     "output_type": "execute_result"
    }
   ],
   "source": []
  },
  {
   "cell_type": "code",
   "execution_count": 79,
   "metadata": {},
   "outputs": [],
   "source": [
    "def extract_info_airlines_eq(url):\n",
    "    page = requests.get(url)\n",
    "    soup = BeautifulSoup(page.content, \"html.parser\")\n",
    "\n",
    "    date_soup = soup.find_all(\"h3\", class_=\"text_sub_header userStatusWrapper\")\n",
    "    dates = [date_soup[i].find(\"time\")['datetime'] for i in range(len(date_soup))]  \n",
    " \n",
    "    reviews_soup = soup.find_all(\"div\", class_=\"text_content\")\n",
    "    reviews = ['a']*len(reviews_soup)\n",
    "    rev = re.compile(' (Verified |) (.*)') #To delete verified from the comment\n",
    "\n",
    "    for i in range(len(reviews_soup)):\n",
    "        reviews_get = rev.findall(reviews_soup[i].get_text())\n",
    "        if len(reviews_get) == 0 : \n",
    "            reviews[i]= reviews_soup[i].get_text()\n",
    "        else:\n",
    "            reviews[i] = reviews_get[0][1]\n",
    "                        \n",
    "    titles_soup = soup.find_all(\"h2\", class_=\"text_header\")\n",
    "    titles = [titles_soup[i].get_text() for i in range(len(dates))]  \n",
    "\n",
    "    notes_soup = soup.find_all(\"div\", class_=\"rating-10\")\n",
    "    notes = [int(notes_soup[i].find(\"span\", {'itemprop': 'ratingValue'}).text) for i in range(1,len(notes_soup))]\n",
    "\n",
    "    return pd.DataFrame({'Notes': notes, 'title' : titles,'reviews':reviews, 'Dates':pd.to_datetime(dates)})"
   ]
  },
  {
   "cell_type": "code",
   "execution_count": 55,
   "metadata": {},
   "outputs": [
    {
     "data": {
      "text/plain": [
       "['a', 'a', 'a', 'a', 'a']"
      ]
     },
     "execution_count": 55,
     "metadata": {},
     "output_type": "execute_result"
    }
   ],
   "source": [
    "a = ['a',]*5\n",
    "a"
   ]
  },
  {
   "cell_type": "code",
   "execution_count": 80,
   "metadata": {},
   "outputs": [],
   "source": [
    "url = 'https://www.airlinequality.com/airline-reviews/air-transat/'\n",
    "df = extract_info_airlines_eq(url)"
   ]
  },
  {
   "cell_type": "code",
   "execution_count": 81,
   "metadata": {},
   "outputs": [
    {
     "data": {
      "text/html": [
       "<div>\n",
       "<style scoped>\n",
       "    .dataframe tbody tr th:only-of-type {\n",
       "        vertical-align: middle;\n",
       "    }\n",
       "\n",
       "    .dataframe tbody tr th {\n",
       "        vertical-align: top;\n",
       "    }\n",
       "\n",
       "    .dataframe thead th {\n",
       "        text-align: right;\n",
       "    }\n",
       "</style>\n",
       "<table border=\"1\" class=\"dataframe\">\n",
       "  <thead>\n",
       "    <tr style=\"text-align: right;\">\n",
       "      <th></th>\n",
       "      <th>Notes</th>\n",
       "      <th>title</th>\n",
       "      <th>reviews</th>\n",
       "      <th>Dates</th>\n",
       "    </tr>\n",
       "  </thead>\n",
       "  <tbody>\n",
       "    <tr>\n",
       "      <th>0</th>\n",
       "      <td>1</td>\n",
       "      <td>\"short of my expectations\"</td>\n",
       "      <td>\"I would like to express my deep dissatisfacti...</td>\n",
       "      <td>2023-10-18</td>\n",
       "    </tr>\n",
       "    <tr>\n",
       "      <th>1</th>\n",
       "      <td>1</td>\n",
       "      <td>\"The airline is dysfunctional\"</td>\n",
       "      <td>The airline is dysfunctional, from check in to...</td>\n",
       "      <td>2023-10-12</td>\n",
       "    </tr>\n",
       "    <tr>\n",
       "      <th>2</th>\n",
       "      <td>2</td>\n",
       "      <td>\"could not print me a boarding pass</td>\n",
       "      <td>If you book a codeshare flight, there is no w...</td>\n",
       "      <td>2023-10-08</td>\n",
       "    </tr>\n",
       "    <tr>\n",
       "      <th>3</th>\n",
       "      <td>10</td>\n",
       "      <td>\"his dedication and hard work\"</td>\n",
       "      <td>We are very grateful and thankful to all the ...</td>\n",
       "      <td>2023-10-05</td>\n",
       "    </tr>\n",
       "    <tr>\n",
       "      <th>4</th>\n",
       "      <td>4</td>\n",
       "      <td>\"dissatisfied and disappointed\"</td>\n",
       "      <td>✅ Trip Verified | Sadly I do not recommend thi...</td>\n",
       "      <td>2023-09-24</td>\n",
       "    </tr>\n",
       "    <tr>\n",
       "      <th>5</th>\n",
       "      <td>4</td>\n",
       "      <td>\"All in all never again\"</td>\n",
       "      <td>Our Air Transat service (with its own logos on...</td>\n",
       "      <td>2023-09-17</td>\n",
       "    </tr>\n",
       "    <tr>\n",
       "      <th>6</th>\n",
       "      <td>2</td>\n",
       "      <td>\"Horrible seats\"</td>\n",
       "      <td>✅ Trip Verified | Horrible seats. too small. S...</td>\n",
       "      <td>2023-09-12</td>\n",
       "    </tr>\n",
       "    <tr>\n",
       "      <th>7</th>\n",
       "      <td>1</td>\n",
       "      <td>\"Terrible service\"</td>\n",
       "      <td>This aircraft doesn't have any charging ports ...</td>\n",
       "      <td>2023-09-11</td>\n",
       "    </tr>\n",
       "    <tr>\n",
       "      <th>8</th>\n",
       "      <td>2</td>\n",
       "      <td>\"very disappointing experience\"</td>\n",
       "      <td>We booked club class in order to ensure a good...</td>\n",
       "      <td>2023-09-06</td>\n",
       "    </tr>\n",
       "    <tr>\n",
       "      <th>9</th>\n",
       "      <td>1</td>\n",
       "      <td>\"I’ve spent hours on the phone\"</td>\n",
       "      <td>I am not travelling until March 2024, but just...</td>\n",
       "      <td>2023-08-27</td>\n",
       "    </tr>\n",
       "  </tbody>\n",
       "</table>\n",
       "</div>"
      ],
      "text/plain": [
       "   Notes                                title  \\\n",
       "0      1           \"short of my expectations\"   \n",
       "1      1       \"The airline is dysfunctional\"   \n",
       "2      2  \"could not print me a boarding pass   \n",
       "3     10       \"his dedication and hard work\"   \n",
       "4      4      \"dissatisfied and disappointed\"   \n",
       "5      4             \"All in all never again\"   \n",
       "6      2                     \"Horrible seats\"   \n",
       "7      1                   \"Terrible service\"   \n",
       "8      2      \"very disappointing experience\"   \n",
       "9      1      \"I’ve spent hours on the phone\"   \n",
       "\n",
       "                                             reviews      Dates  \n",
       "0  \"I would like to express my deep dissatisfacti... 2023-10-18  \n",
       "1  The airline is dysfunctional, from check in to... 2023-10-12  \n",
       "2   If you book a codeshare flight, there is no w... 2023-10-08  \n",
       "3   We are very grateful and thankful to all the ... 2023-10-05  \n",
       "4  ✅ Trip Verified | Sadly I do not recommend thi... 2023-09-24  \n",
       "5  Our Air Transat service (with its own logos on... 2023-09-17  \n",
       "6  ✅ Trip Verified | Horrible seats. too small. S... 2023-09-12  \n",
       "7  This aircraft doesn't have any charging ports ... 2023-09-11  \n",
       "8  We booked club class in order to ensure a good... 2023-09-06  \n",
       "9  I am not travelling until March 2024, but just... 2023-08-27  "
      ]
     },
     "execution_count": 81,
     "metadata": {},
     "output_type": "execute_result"
    }
   ],
   "source": [
    "df"
   ]
  },
  {
   "cell_type": "code",
   "execution_count": 85,
   "metadata": {},
   "outputs": [
    {
     "data": {
      "text/plain": [
       "'✅ Trip Verified | Sadly I do not recommend this airline that boasts itself as being voted best leisure airline of the year by SKYTRAX! As I have flown this route before a few years ago and again this March down south to Mexico their quality of service has downgraded a lot! The staff is unhappy or so or seems the on board service is that which resembles carriers like Frontier and Spirit. They no longer offer the option of pre ordering a gourmet meal since the food for this route is minuscule and awful! The seats are uncomfortable and the aisles are so narrow I don’t know how their flight attendants can get through especially in an emergency. The only thing going for them is the monopoly of a direct flight from Montreal to Athens alongside Air Canada. The language fluency in French was horrendous as the head flight attendants struggled both in French and especially Greek like they were reading off cue cards. Canada is a bilingual country and therefore the staff on board should be bilingual at the least. There were flight attendants on both flights that spoke no French. Sadly they have a lot of work to do on their image, concept and staff satisfaction. By the way the ticket we paid for was not cheap and had no flexibility. I am dissatisfied and disappointed and would prefer to fly a different airline on our next trip!'"
      ]
     },
     "execution_count": 85,
     "metadata": {},
     "output_type": "execute_result"
    }
   ],
   "source": [
    "df['reviews'][4]"
   ]
  },
  {
   "cell_type": "code",
   "execution_count": 90,
   "metadata": {},
   "outputs": [
    {
     "data": {
      "text/plain": [
       "[]"
      ]
     },
     "execution_count": 90,
     "metadata": {},
     "output_type": "execute_result"
    }
   ],
   "source": [
    "rev = re.compile('(.*) (|) (.*) ')\n",
    "rev.findall(df['reviews'][4])"
   ]
  }
 ],
 "metadata": {
  "kernelspec": {
   "display_name": "base",
   "language": "python",
   "name": "python3"
  },
  "language_info": {
   "codemirror_mode": {
    "name": "ipython",
    "version": 3
   },
   "file_extension": ".py",
   "mimetype": "text/x-python",
   "name": "python",
   "nbconvert_exporter": "python",
   "pygments_lexer": "ipython3",
   "version": "3.10.9"
  }
 },
 "nbformat": 4,
 "nbformat_minor": 2
}
